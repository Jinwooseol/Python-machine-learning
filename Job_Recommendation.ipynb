{
  "nbformat": 4,
  "nbformat_minor": 0,
  "metadata": {
    "colab": {
      "name": "Job Recommendation.ipynb",
      "provenance": [],
      "collapsed_sections": [],
      "mount_file_id": "1Zh51SQsxCnt_DtaczJEZWgVXDyfuHSIM",
      "authorship_tag": "ABX9TyP6VCBHUyEyvVMFcti4RsnR",
      "include_colab_link": true
    },
    "kernelspec": {
      "name": "python3",
      "display_name": "Python 3"
    },
    "language_info": {
      "name": "python"
    }
  },
  "cells": [
    {
      "cell_type": "markdown",
      "metadata": {
        "id": "view-in-github",
        "colab_type": "text"
      },
      "source": [
        "<a href=\"https://colab.research.google.com/github/Jinwooseol/Python-machine-learning/blob/main/Job_Recommendation.ipynb\" target=\"_parent\"><img src=\"https://colab.research.google.com/assets/colab-badge.svg\" alt=\"Open In Colab\"/></a>"
      ]
    },
    {
      "cell_type": "markdown",
      "source": [
        "# [머신러닝] 채용 공고 추천\n",
        "- https://programmers.co.kr/assignments/18013/challenges/849\n",
        "\n",
        "# STEP 1. 데이터 구조 설명 및 채점 기준 안내\n",
        "# 문제 개요\n",
        "이 문제는 실제 Programmers 채용 공고 페이지를 방문한 개발자들의 방문/지원 기록을 바탕으로 추천모델을 만들어보는 것이다. 참고로 모든 데이터는 익명화되었음을 밝힌다. 구체적으로 개발자(userID로 표현됨)와 채용공고(jobID로 표현됨)를 보고 개발자가 해당 채용공고에 지원할지 안 할지를 예측하는 Binary Classifier를 만드는 것이다. 이 모델을 만드는데 필요한 feature들은 부가적으로 제공되는 데이터 파일들을 바탕으로 만들어내면 되며 이에 대해서는 뒤의 데이터 세트 섹션에서 설명한다.\n",
        "\n",
        "# 데이터 세트 설명\n",
        "- 이 문제를 해결하는데 필요한 데이터들은 다음과 같은 6개의 파일에 들어있으며 각 파일에 관해 설명한다.\n",
        "\n",
        "\n",
        "# 최종 제출 파일\n",
        "- 최종 제출 파일은 applied 필드를 가지는 csv파일이며 test.csv에서 나오는 user가 지원했을지 여부를 값으로 가져야 한다. (1이면 지원을 나타내고 0이면 지원하지 않음을 나타냄)\n",
        "- 최종 제출 파일의 n번째 줄값은 test.csv의 n번째 줄 사용자에 대한 예측값이어야 한다.\n",
        "\n",
        "# 데이터 관련 안내\n",
        "- 작성한 코드의 저작권은 응시자에게 있음  \n",
        "- 데이터의 저작권은 그렙에 있으므로 제3자에게 공유하거나 개인적인 용도로 사용할 수 없으며, 외부 블로그 등에 공개 불가\n",
        "- 그렙에서 사용하기 위해 데이터를 제공하는 것이 아니며, 실전 데이터를 제공해서 평가 진행하기 위해 제공함\n",
        "- 모델 학습을 위해 외부 데이터 및 모델(pre-trained model)을 사용 불가\n",
        "\n",
        "# 채점 방식\n",
        "- Accuracy 100%\n"
      ],
      "metadata": {
        "id": "c9gj7zOqwNUd"
      }
    },
    {
      "cell_type": "markdown",
      "source": [
        "# Modules"
      ],
      "metadata": {
        "id": "nZlfWJvXxDxi"
      }
    },
    {
      "cell_type": "code",
      "execution_count": null,
      "metadata": {
        "id": "GhH7gkJswJlj"
      },
      "outputs": [],
      "source": [
        "import numpy as np\n",
        "import pandas as pd\n"
      ]
    },
    {
      "cell_type": "markdown",
      "source": [
        "# Data 다운로드"
      ],
      "metadata": {
        "id": "uRVc4hgaGhmJ"
      }
    },
    {
      "cell_type": "code",
      "source": [
        "train_data = pd.read_csv('/content/drive/MyDrive/인공지능 학습/Project/Job Recommendation/train.csv')\n",
        "job_companies = pd.read_csv('/content/drive/MyDrive/인공지능 학습/Project/Job Recommendation/job_companies.csv')\n",
        "job_tags = pd.read_csv('/content/drive/MyDrive/인공지능 학습/Project/Job Recommendation/job_tags.csv')\n",
        "tags = pd.read_csv('/content/drive/MyDrive/인공지능 학습/Project/Job Recommendation/tags.csv')\n",
        "user_tags = pd.read_csv('/content/drive/MyDrive/인공지능 학습/Project/Job Recommendation/user_tags.csv')\n",
        "test_job = pd.read_csv('/content/drive/MyDrive/인공지능 학습/Project/Job Recommendation/test_job.csv')"
      ],
      "metadata": {
        "id": "U6E2XhVnGeuo"
      },
      "execution_count": null,
      "outputs": []
    },
    {
      "cell_type": "markdown",
      "source": [
        "# train.csv\n",
        "\n",
        "- 첫 번째 칼럼은 개발자의 ID이고 두 번째 칼럼은 구인공고(이후 “잡”이라 표현)의 ID가 된다. \n",
        "- 마지막 세 번째 칼럼은 개발자가 해당 구인공고를 보고 지원을 했는지 여부를 나타낸다. \n",
        "- 앞서 이야기했듯이 이번에 만들어볼 추천모델은 개발자와 잡의 페어를 보고 지원 여부를 예측하는 것이다. \n",
        "- 이를 위해서는 개발자와 잡에 대한 세부 정보가 필요한데 뒤에 나오는 4개의 파일에서 그런 정보들(Features)을 추출할 수 있다.\n"
      ],
      "metadata": {
        "id": "aIr006TpMk0G"
      }
    },
    {
      "cell_type": "code",
      "source": [
        "print(train_data.head(5))\n",
        "print(train_data.shape)"
      ],
      "metadata": {
        "colab": {
          "base_uri": "https://localhost:8080/"
        },
        "id": "K4ALRrzEMp6J",
        "outputId": "de3c0704-5f6d-422f-eab5-d7fe84635bc0"
      },
      "execution_count": null,
      "outputs": [
        {
          "output_type": "stream",
          "name": "stdout",
          "text": [
            "                             userID                             jobID  applied\n",
            "0  fe292163d06253b716e9a0099b42031d  15de21c670ae7c3f6f3f1f37029303c9        0\n",
            "1  6377fa90618fae77571e8dc90d98d409  55b37c5c270e5d84c793e486d798c01d        0\n",
            "2  8ec0888a5b04139be0dfe942c7eb4199  0fcbc61acd0479dc77e3cccc0f5ffca7        1\n",
            "3  f862b39f767d3a1991bdeb2ea1401c9c  3b5dca501ee1e6d8cd7b905f4e1bf723        0\n",
            "4  cac14930c65d72c16efac2c51a6b7f71  287e03db1d99e0ec2edb90d079e142f3        0\n",
            "(6000, 3)\n"
          ]
        }
      ]
    },
    {
      "cell_type": "markdown",
      "source": [
        "# job_tags.csv\n",
        "\n",
        "- 이 파일은 각 잡의 키워드(tagID)들을 나타낸다.\n",
        "- 하나의 잡에는 여러 개의 키워드가 존재할 수 있다.\n",
        "- tagID에 해당하는 키워드가 뭔지 알고 싶다면 뒤에서 설명하는 tags.csv를 참조하면 된다."
      ],
      "metadata": {
        "id": "Bvt4a9TIMaBQ"
      }
    },
    {
      "cell_type": "code",
      "source": [
        "print(job_tags.head(5))\n",
        "print(job_tags.shape)"
      ],
      "metadata": {
        "colab": {
          "base_uri": "https://localhost:8080/"
        },
        "id": "qLVC25vRMd6n",
        "outputId": "6ce9e872-d90b-4339-b4d2-7f567dbb802a"
      },
      "execution_count": null,
      "outputs": [
        {
          "output_type": "stream",
          "name": "stdout",
          "text": [
            "                              jobID                             tagID\n",
            "0  320722549d1751cf3f247855f937b982  d38901788c533e8286cb6400b40b386d\n",
            "1  e744f91c29ec99f0e662c9177946c627  3948ead63a9f2944218de038d8934305\n",
            "2  e744f91c29ec99f0e662c9177946c627  0e095e054ee94774d6a496099eb1cf6a\n",
            "3  e820a45f1dfc7b95282d10b6087e11c0  7d771e0e8f3633ab54856925ecdefc5d\n",
            "4  e820a45f1dfc7b95282d10b6087e11c0  6c8dba7d0df1c4a79dd07646be9a26c8\n",
            "(3477, 2)\n"
          ]
        }
      ]
    },
    {
      "cell_type": "markdown",
      "source": [
        "# user_tags.csv\n",
        "- 이 파일은 각 개발자가 관심사로 등록한 키워드(tagID)들을 나타낸다. \n",
        "- 한 개발자가 여러 개의 키워드를 등록할 수 있다. \n",
        "- 앞서 job_tags.csv처럼tagID에 해당하는 키워드가 뭔지 알고 싶다면 뒤에서 설명하는 tags.csv를 참조하면 된다.\n",
        "- 예를 들어 tagID가 1189인 키워드는 JUnit이다."
      ],
      "metadata": {
        "id": "cCwsDwVbMHZB"
      }
    },
    {
      "cell_type": "code",
      "source": [
        "print(user_tags.head(5))\n",
        "print(user_tags.shape)"
      ],
      "metadata": {
        "colab": {
          "base_uri": "https://localhost:8080/"
        },
        "id": "A0SmySTDMSQ0",
        "outputId": "0a1417b4-057c-4374-aa23-468df52d8c75"
      },
      "execution_count": null,
      "outputs": [
        {
          "output_type": "stream",
          "name": "stdout",
          "text": [
            "                             userID                             tagID\n",
            "0  e576423831e043f7928d9ac113abbe6f  82c2559140b95ccda9c6ca4a8b981f1e\n",
            "1  e576423831e043f7928d9ac113abbe6f  2ba8698b79439589fdd2b0f7218d8b07\n",
            "2  e576423831e043f7928d9ac113abbe6f  351b33587c5fdd93bd42ef7ac9995a28\n",
            "3  e576423831e043f7928d9ac113abbe6f  81e5f81db77c596492e6f1a5a792ed53\n",
            "4  e576423831e043f7928d9ac113abbe6f  0e095e054ee94774d6a496099eb1cf6a\n",
            "(17194, 2)\n"
          ]
        }
      ]
    },
    {
      "cell_type": "markdown",
      "source": [
        "# tags.csv\n",
        "\n",
        "- 앞에서 이 파일은 이미 두 번 설명한 셈인데 tagID에 해당하는 실제 키워드가 무엇인지 기술한다.\n"
      ],
      "metadata": {
        "id": "AfOhsd1uL_3p"
      }
    },
    {
      "cell_type": "code",
      "source": [
        "print(tags.head(5))\n",
        "print(tags.shape)"
      ],
      "metadata": {
        "colab": {
          "base_uri": "https://localhost:8080/"
        },
        "id": "h87glUJPMAs4",
        "outputId": "ee32ed0a-0661-4508-ec34-58d53c43e181"
      },
      "execution_count": null,
      "outputs": [
        {
          "output_type": "stream",
          "name": "stdout",
          "text": [
            "                              tagID                   keyword\n",
            "0  602d1305678a8d5fdb372271e980da6a  Amazon Web Services(AWS)\n",
            "1  e3251075554389fe91d17a794861d47b                Tensorflow\n",
            "2  a1d50185e7426cbb0acad1e6ca74b9aa                    Docker\n",
            "3  884d79963bd8bc0ae9b13a1aa71add73                       Git\n",
            "4  4122cb13c7a474c1976c9706ae36521d                    Python\n",
            "(887, 2)\n"
          ]
        }
      ]
    },
    {
      "cell_type": "markdown",
      "source": [
        "# job_companies.csv\n",
        "- 파일은 잡과 관련된 회사가 어디인지 그 정보를 보여주는데 별다른 정보는 없고 회사의 규모를 보여주는 필드가 존재하는데 이 필드는 옵션 필드이다.  \n",
        "  (값이 존재하지 않을 수 있음)\n",
        "- 이 정보를 통해 어떤 잡들이 어느 회사에서 나온 것이고 그 회사의 크기는 어떻게 되는지 알 수 있다."
      ],
      "metadata": {
        "id": "F4eQX6AeLrSC"
      }
    },
    {
      "cell_type": "code",
      "source": [
        "print(job_companies.head(5))\n",
        "print(job_companies.shape)"
      ],
      "metadata": {
        "colab": {
          "base_uri": "https://localhost:8080/"
        },
        "id": "7qGPjiVoLsJI",
        "outputId": "de764772-c944-4285-9884-34032b9b6d4e"
      },
      "execution_count": null,
      "outputs": [
        {
          "output_type": "stream",
          "name": "stdout",
          "text": [
            "                          companyID                             jobID  \\\n",
            "0  00411460f7c92d2124a67ea0f4cb5f85  e5f6ad6ce374177eef023bf5d0c018b6   \n",
            "1  1905aedab9bf2477edc068a355bba31a  185e65bc40581880c4f2c82958de8cfe   \n",
            "2  89fcd07f20b6785b92134bd6c1d0fa42  0537fb40a68c18da59a35c2bfe1ca554   \n",
            "3  acf4b89d3d503d8252c9c4ba75ddbf6d  b7ee6f5f9aa5cd17ca1aea43ce848496   \n",
            "4  fb7b9ffa5462084c5f4e7e85a093e6d7  efe937780e95574250dabe07151bdc23   \n",
            "\n",
            "  companySize  \n",
            "0         NaN  \n",
            "1       11-50  \n",
            "2     101-200  \n",
            "3        1-10  \n",
            "4         NaN  \n",
            "(733, 3)\n"
          ]
        }
      ]
    },
    {
      "cell_type": "markdown",
      "source": [
        "# test.csv\n",
        "- 라인마다 userID와 jobID가 있고 이 개발자가 이 잡에 지원을 할지 말지 예측을 하면 된다."
      ],
      "metadata": {
        "id": "PuRCS4dzLdzn"
      }
    },
    {
      "cell_type": "code",
      "source": [
        "print(test_job.head(5))\n",
        "print(test_job.shape)"
      ],
      "metadata": {
        "colab": {
          "base_uri": "https://localhost:8080/"
        },
        "id": "rX7u7aGMGxFl",
        "outputId": "82cc9575-a8d1-4def-e638-e4353f0baf51"
      },
      "execution_count": null,
      "outputs": [
        {
          "output_type": "stream",
          "name": "stdout",
          "text": [
            "                             userID                             jobID\n",
            "0  ebaee1af0c501f22ddfe242fc16dae53  352407221afb776e3143e8a1a0577885\n",
            "1  9ab05403ac7808cbfba3da26665f7a9c  96b9bff013acedfb1d140579e2fbeb63\n",
            "2  33349e909eba71677299d2fc97e158b7  58d4d1e7b1e97b258c9ed0b37e02d087\n",
            "3  ac985a9db5faeb44c94a334430ccc241  ccb0989662211f61edae2e26d58ea92f\n",
            "4  d41e0e6f6f1e29098d9d152511503ab2  4a213d37242bdcad8e7300e202e7caa4\n",
            "(2435, 2)\n"
          ]
        }
      ]
    },
    {
      "cell_type": "markdown",
      "source": [
        "# 모델 구축 아이디어\n",
        "1. user_tags를 features로 사용하여 one-hot encoding을 수행한다.\n",
        "2. tags에 따른 companies의 상관관계 확인\n",
        "3. companies를 tags로 변환한 뒤, 각 user_id 마다 tags를 X로 사용하고 applied를 y로 사용하여 model을 학습\n",
        "  - Model은 Random Forest, Logistic Regression, Gradient Boosting 등 사용 예정\n",
        "4. 학습 된 model을 통해 test X로 예측 확인"
      ],
      "metadata": {
        "id": "-U36IzFANCvJ"
      }
    },
    {
      "cell_type": "markdown",
      "source": [
        "# tag data의 index를 ID로 바꾼다."
      ],
      "metadata": {
        "id": "MDM0hUEmmQJZ"
      }
    },
    {
      "cell_type": "code",
      "source": [
        "tags.set_index('tagID', inplace = True)\n",
        "print(tags)"
      ],
      "metadata": {
        "id": "wRQ2X9dGLoS1",
        "colab": {
          "base_uri": "https://localhost:8080/"
        },
        "outputId": "94165d49-0182-4bec-e265-23e6d8d77e52"
      },
      "execution_count": null,
      "outputs": [
        {
          "output_type": "stream",
          "name": "stdout",
          "text": [
            "                                                   keyword\n",
            "tagID                                                     \n",
            "602d1305678a8d5fdb372271e980da6a  Amazon Web Services(AWS)\n",
            "e3251075554389fe91d17a794861d47b                Tensorflow\n",
            "a1d50185e7426cbb0acad1e6ca74b9aa                    Docker\n",
            "884d79963bd8bc0ae9b13a1aa71add73                       Git\n",
            "4122cb13c7a474c1976c9706ae36521d                    Python\n",
            "...                                                    ...\n",
            "818f4654ed39a1c147d1e51a00ffb4cb                        활용\n",
            "7cce53cf90577442771720a370c3c723                    mybais\n",
            "c2aee86157b4a40b78132f1e71a9e6f1                         *\n",
            "1fb2a1c37b18aa4611c3949d6148d0f8             Autodesk Maya\n",
            "5fa9e41bfec0725742cc9d15ef594120                Apache Pig\n",
            "\n",
            "[887 rows x 1 columns]\n"
          ]
        }
      ]
    },
    {
      "cell_type": "markdown",
      "source": [
        "# user_tags name을 추가"
      ],
      "metadata": {
        "id": "lSABb8nVn0RX"
      }
    },
    {
      "cell_type": "code",
      "source": [
        "# user_tags['tagName'] = user_tags['tagID']\n",
        "# for i in user_tags.index:\n",
        "#   user_tags.at[i, 'tagName'] = tags.loc[user_tags.at[i, 'tagName']]\n",
        "# print(user_tags.at[0, 'tagName'])"
      ],
      "metadata": {
        "id": "p2oFl8demgAv"
      },
      "execution_count": null,
      "outputs": []
    },
    {
      "cell_type": "markdown",
      "source": [
        "# JobID를 tagID의 list로 변환\n",
        "- JobID대신 tagID를 사용하여 특정 user가 특정 tagID의 set에 대하여 apply하는지 training data로 사용하기 위함\n"
      ],
      "metadata": {
        "id": "4EoCk4-BxSj_"
      }
    },
    {
      "cell_type": "code",
      "source": [
        "# 각 job에 대한 tags를 하나의 list로 합치기\n",
        "# 각 job마다 몇개의 tags를 가지는지 tag num 추가\n",
        "jt = job_tags.groupby('jobID').agg({'tagID': lambda x: x.tolist()})\n",
        "jt['tag num'] = jt['tagID'].apply(lambda x: len(x))\n",
        "print(jt)"
      ],
      "metadata": {
        "id": "wHaRxRN5uRvQ",
        "colab": {
          "base_uri": "https://localhost:8080/"
        },
        "outputId": "c7273eaf-0b6d-431d-e2b0-b2218a12e90c"
      },
      "execution_count": null,
      "outputs": [
        {
          "output_type": "stream",
          "name": "stdout",
          "text": [
            "                                                                              tagID  \\\n",
            "jobID                                                                                 \n",
            "00ac8ed3b4327bdd4ebbebcb2ba10a00  [884d79963bd8bc0ae9b13a1aa71add73, aace49c7d80...   \n",
            "00e26af6ac3b1c1c49d7c3d79c60d000  [9a3d458322d70046f63dfd8b0153ece4, 4122cb13c7a...   \n",
            "00ec53c4682d36f5c4359f4ae7bd7ba1  [1e1d184167ca7676cf665225e236a3d2, 45f31d16b10...   \n",
            "013a006f03dbc5392effeb8f18fda755  [e702e51da2c0f5be4dd354bb3e295d37, 3fe78a8acf5...   \n",
            "0188e8b8b014829e2fa0f430f0a95961  [f47330643ae134ca204bf6b2481fec47, 4122cb13c7a...   \n",
            "...                                                                             ...   \n",
            "fed33392d3a48aa149a87a38b875ba4a  [7d04bbbe5494ae9d2f5a76aa1c00fa2f, 7d771e0e8f3...   \n",
            "ff4d5fbbafdf976cfdc032e3bde78de5  [c8ba76c279269b1c6bc8a07e38e78fa4, 2ba8698b794...   \n",
            "ffd52f3c7e12435a724a8f30fddadd9c  [0e095e054ee94774d6a496099eb1cf6a, 81dc9bdb52d...   \n",
            "ffeabd223de0d4eacb9a3e6e53e5448d  [602d1305678a8d5fdb372271e980da6a, a1d50185e74...   \n",
            "ffeed84c7cb1ae7bf4ec4bd78275bb98  [bd4c9ab730f5513206b999ec0d90d1fb, 3948ead63a9...   \n",
            "\n",
            "                                  tag num  \n",
            "jobID                                      \n",
            "00ac8ed3b4327bdd4ebbebcb2ba10a00        7  \n",
            "00e26af6ac3b1c1c49d7c3d79c60d000       12  \n",
            "00ec53c4682d36f5c4359f4ae7bd7ba1        4  \n",
            "013a006f03dbc5392effeb8f18fda755        3  \n",
            "0188e8b8b014829e2fa0f430f0a95961        3  \n",
            "...                                   ...  \n",
            "fed33392d3a48aa149a87a38b875ba4a        5  \n",
            "ff4d5fbbafdf976cfdc032e3bde78de5        4  \n",
            "ffd52f3c7e12435a724a8f30fddadd9c        4  \n",
            "ffeabd223de0d4eacb9a3e6e53e5448d        3  \n",
            "ffeed84c7cb1ae7bf4ec4bd78275bb98        2  \n",
            "\n",
            "[733 rows x 2 columns]\n"
          ]
        }
      ]
    },
    {
      "cell_type": "markdown",
      "source": [
        "# User가 지원한 job의 tag와 user가 희망하는 tag 사이의 상관관계 (일치도) 확인\n",
        "- 예시로 userID가 'fe292163d06253b716e9a0099b42031d'인 사용자에 대하여 각 jobID가 가지는 tags와 실제 본인이 원하는 tags사이의 상관관계 정도를 파악한다."
      ],
      "metadata": {
        "id": "46x0HWxL2pwz"
      }
    },
    {
      "cell_type": "code",
      "source": [
        "# job의 tags와 user의 tags 일치도 확인\n",
        "# job의 tag가 user의 tags에 포함되어 있으면 반환\n",
        "def match(job_tags, user_tags):\n",
        "  result = []\n",
        "  for jtag in job_tags:\n",
        "    if jtag in user_tags:\n",
        "      result.append(jtag)\n",
        "  return result"
      ],
      "metadata": {
        "id": "r9xUPlJJ-ZvF"
      },
      "execution_count": null,
      "outputs": []
    },
    {
      "cell_type": "code",
      "source": [
        "# Sample user의 ID\n",
        "sample_user = 'fe292163d06253b716e9a0099b42031d'\n",
        "\n",
        "# Sample user가 원하는 tag의 IDs\n",
        "sample_tags = user_tags[user_tags['userID'] == 'fe292163d06253b716e9a0099b42031d']['tagID'].values\n",
        "print(sample_tags[:5])\n",
        "print(sample_tags.shape)\n",
        "\n",
        "# Sample user가 지원 또는 지원하지 않을 job의 ID 및 지원 정보\n",
        "sample_jobs = train_data[train_data['userID'] == 'fe292163d06253b716e9a0099b42031d'][['jobID', 'applied']]\n",
        "print(sample_jobs.head(5))\n",
        "print(sample_jobs.shape)\n",
        "\n",
        "# job의 tags와 user의 tags 일치도 확인\n",
        "# job의 tag가 user의 tags에 포함되어 있으면 matched tags에 추가\n",
        "sample_jobs['matched tags'] = sample_jobs['jobID'].apply(lambda x: match(jt.at[x, 'tagID'], sample_tags))\n",
        "sample_jobs['matched tags num'] = sample_jobs['matched tags'].apply(lambda x: len(x))\n",
        "sample_jobs['job tag num'] = sample_jobs['jobID'].apply(lambda x: jt.at[x, 'tag num'])\n",
        "sample_jobs['tag ratio'] = sample_jobs['matched tags num'] / sample_jobs['job tag num'] * 100\n",
        "\n",
        "# jobID에 해당하는 모든 tags\n",
        "sample_jobs['job tags'] = sample_jobs['jobID'].apply(lambda x: jt.at[x, 'tagID'])\n",
        "print(sample_jobs)\n",
        "sample_jobs.to_excel(\"sample_jobs.xlsx\")"
      ],
      "metadata": {
        "colab": {
          "base_uri": "https://localhost:8080/"
        },
        "id": "iz3loz9Z1z8b",
        "outputId": "931f5501-5ed6-477e-ea93-59f4af8cc81f"
      },
      "execution_count": null,
      "outputs": [
        {
          "output_type": "stream",
          "name": "stdout",
          "text": [
            "['285ab9448d2751ee57ece7f762c39095' 'a1d50185e7426cbb0acad1e6ca74b9aa'\n",
            " 'f47330643ae134ca204bf6b2481fec47' '5680522b8e2bb01943234bce7bf84534'\n",
            " '285f89b802bcb2651801455c86d78f2a']\n",
            "(151,)\n",
            "                                jobID  applied\n",
            "0    15de21c670ae7c3f6f3f1f37029303c9        0\n",
            "21   26337353b7962f533d78c762373b3318        0\n",
            "378  ae5e3ce40e0404a45ecacaaf05e5f735        0\n",
            "882  eddea82ad2755b24c4e168c5fc2ebd40        0\n",
            "910  2b8a61594b1f4c4db0902a8a395ced93        0\n",
            "(27, 2)\n",
            "                                 jobID  applied  \\\n",
            "0     15de21c670ae7c3f6f3f1f37029303c9        0   \n",
            "21    26337353b7962f533d78c762373b3318        0   \n",
            "378   ae5e3ce40e0404a45ecacaaf05e5f735        0   \n",
            "882   eddea82ad2755b24c4e168c5fc2ebd40        0   \n",
            "910   2b8a61594b1f4c4db0902a8a395ced93        0   \n",
            "989   5ea1649a31336092c05438df996a3e59        0   \n",
            "1025  298f95e1bf9136124592c8d4825a06fc        0   \n",
            "1628  1e48c4420b7073bc11916c6c1de226bb        1   \n",
            "1688  6e2713a6efee97bacb63e52c54f0ada0        0   \n",
            "1725  f73b76ce8949fe29bf2a537cfa420e8f        1   \n",
            "1858  d64a340bcb633f536d56e51874281454        0   \n",
            "2175  c399862d3b9d6b76c8436e924a68c45b        0   \n",
            "2244  c8ba76c279269b1c6bc8a07e38e78fa4        0   \n",
            "2728  5e388103a391daabe3de1d76a6739ccd        0   \n",
            "2873  1068c6e4c8051cfd4e9ea8072e3189e2        1   \n",
            "2899  0c74b7f78409a4022a2c4c5a5ca3ee19        1   \n",
            "2953  062ddb6c727310e76b6200b7c71f63b5        1   \n",
            "3088  7bcdf75ad237b8e02e301f4091fb6bc8        0   \n",
            "3168  b495ce63ede0f4efc9eec62cb947c162        0   \n",
            "4201  7dcd340d84f762eba80aa538b0c527f7        0   \n",
            "4411  65658fde58ab3c2b6e5132a39fae7cb9        0   \n",
            "4550  ad972f10e0800b49d76fed33a21f6698        1   \n",
            "5165  ba2fd310dcaa8781a9a652a31baf3c68        0   \n",
            "5299  839ab46820b524afda05122893c2fe8e        0   \n",
            "5667  0f840be9b8db4d3fbd5ba2ce59211f55        1   \n",
            "5809  5737034557ef5b8c02c0e46513b98f90        0   \n",
            "5870  a96b65a721e561e1e3de768ac819ffbb        1   \n",
            "\n",
            "                                           matched tags  matched tags num  \\\n",
            "0                                                    []                 0   \n",
            "21                   [f47330643ae134ca204bf6b2481fec47]                 1   \n",
            "378                                                  []                 0   \n",
            "882   [4122cb13c7a474c1976c9706ae36521d, f47330643ae...                 3   \n",
            "910                  [f47330643ae134ca204bf6b2481fec47]                 1   \n",
            "989                  [f47330643ae134ca204bf6b2481fec47]                 1   \n",
            "1025  [5680522b8e2bb01943234bce7bf84534, 3948ead63a9...                 2   \n",
            "1628                 [81dc9bdb52d04dc20036dbd8313ed055]                 1   \n",
            "1688                                                 []                 0   \n",
            "1725                 [f47330643ae134ca204bf6b2481fec47]                 1   \n",
            "1858                                                 []                 0   \n",
            "2175                 [81dc9bdb52d04dc20036dbd8313ed055]                 1   \n",
            "2244                 [81dc9bdb52d04dc20036dbd8313ed055]                 1   \n",
            "2728                                                 []                 0   \n",
            "2873                 [3948ead63a9f2944218de038d8934305]                 1   \n",
            "2899  [285f89b802bcb2651801455c86d78f2a, 3948ead63a9...                 4   \n",
            "2953  [81dc9bdb52d04dc20036dbd8313ed055, aace49c7d80...                 3   \n",
            "3088                 [4122cb13c7a474c1976c9706ae36521d]                 1   \n",
            "3168                 [3948ead63a9f2944218de038d8934305]                 1   \n",
            "4201                 [4122cb13c7a474c1976c9706ae36521d]                 1   \n",
            "4411                 [4122cb13c7a474c1976c9706ae36521d]                 1   \n",
            "4550                 [f47330643ae134ca204bf6b2481fec47]                 1   \n",
            "5165                 [f47330643ae134ca204bf6b2481fec47]                 1   \n",
            "5299                                                 []                 0   \n",
            "5667                 [3948ead63a9f2944218de038d8934305]                 1   \n",
            "5809                 [81dc9bdb52d04dc20036dbd8313ed055]                 1   \n",
            "5870                 [81dc9bdb52d04dc20036dbd8313ed055]                 1   \n",
            "\n",
            "      job tag num  tag ratio  \\\n",
            "0               2   0.000000   \n",
            "21              2  50.000000   \n",
            "378             4   0.000000   \n",
            "882            10  30.000000   \n",
            "910             5  20.000000   \n",
            "989             4  25.000000   \n",
            "1025            4  50.000000   \n",
            "1628            8  12.500000   \n",
            "1688            1   0.000000   \n",
            "1725            4  25.000000   \n",
            "1858            3   0.000000   \n",
            "2175            8  12.500000   \n",
            "2244            5  20.000000   \n",
            "2728            5   0.000000   \n",
            "2873            5  20.000000   \n",
            "2899            5  80.000000   \n",
            "2953            4  75.000000   \n",
            "3088           10  10.000000   \n",
            "3168            4  25.000000   \n",
            "4201            3  33.333333   \n",
            "4411            6  16.666667   \n",
            "4550            4  25.000000   \n",
            "5165           10  10.000000   \n",
            "5299            2   0.000000   \n",
            "5667            4  25.000000   \n",
            "5809            7  14.285714   \n",
            "5870            3  33.333333   \n",
            "\n",
            "                                               job tags  \n",
            "0     [a9078e8653368c9c291ae2f8b74012e7, d38901788c5...  \n",
            "21    [f47330643ae134ca204bf6b2481fec47, 9a3d458322d...  \n",
            "378   [0e095e054ee94774d6a496099eb1cf6a, 801c14f07f9...  \n",
            "882   [e1d5be1c7f2f456670de3d53c7b54f4a, 4122cb13c7a...  \n",
            "910   [ab1a4d0dd4d48a2ba1077c4494791306, 602d1305678...  \n",
            "989   [a49e9411d64ff53eccfdd09ad10a15b3, f47330643ae...  \n",
            "1025  [d6723e7cd6735df68d1ce4c704c29a04, d282ef26371...  \n",
            "1628  [7bccfde7714a1ebadf06c5f4cea752c1, 7d04bbbe549...  \n",
            "1688                 [e034fb6b66aacc1d48f445ddfb08da98]  \n",
            "1725  [93fb9d4b16aa750c7475b6d601c35c2c, f47330643ae...  \n",
            "1858  [a9078e8653368c9c291ae2f8b74012e7, 0e095e054ee...  \n",
            "2175  [81dc9bdb52d04dc20036dbd8313ed055, cd758e8f59d...  \n",
            "2244  [0e095e054ee94774d6a496099eb1cf6a, 801c14f07f9...  \n",
            "2728  [7d771e0e8f3633ab54856925ecdefc5d, 0e095e054ee...  \n",
            "2873  [d282ef263719ab842e05382dc235f69e, 1e1d184167c...  \n",
            "2899  [285f89b802bcb2651801455c86d78f2a, 3948ead63a9...  \n",
            "2953  [81dc9bdb52d04dc20036dbd8313ed055, aace49c7d80...  \n",
            "3088  [eb86d510361fc23b59f18c1bc9802cc6, 7501e5d4da8...  \n",
            "3168  [3948ead63a9f2944218de038d8934305, 1e1d184167c...  \n",
            "4201  [208e43f0e45c4c78cafadb83d2888cb6, a4d2f0d23dc...  \n",
            "4411  [4122cb13c7a474c1976c9706ae36521d, 9701a1c165d...  \n",
            "4550  [ab1a4d0dd4d48a2ba1077c4494791306, f47330643ae...  \n",
            "5165  [c88d8d0a6097754525e02c2246d8d27f, 2b6d65b9a94...  \n",
            "5299  [bb04af0f7ecaee4aae62035497da1387, 3fe78a8acf5...  \n",
            "5667  [cd758e8f59dfdf06a852adad277986ca, 1e1d184167c...  \n",
            "5809  [801c14f07f9724229175b8ef8b4585a8, 81dc9bdb52d...  \n",
            "5870  [2de5d16682c3c35007e4e92982f1a2ba, 81dc9bdb52d...  \n"
          ]
        }
      ]
    },
    {
      "cell_type": "markdown",
      "source": [
        "# Sample Model\n",
        "- tags를 기반으로 한 feature extraction으로 진행\n",
        "- CountVectorizer"
      ],
      "metadata": {
        "id": "sLsTKAzxDZU9"
      }
    },
    {
      "cell_type": "code",
      "source": [
        "from sklearn.feature_extraction.text import CountVectorizer\n",
        "from sklearn.model_selection import train_test_split, cross_val_score\n",
        "\n",
        "vec = CountVectorizer()\n",
        "vec.fit(sample_tags)\n",
        "print(vec.get_feature_names_out())\n",
        "\n",
        "X = []\n",
        "\n",
        "for i in sample_jobs.index:\n",
        "  X.append(vec.transform(sample_jobs.at[i, 'matched tags']).toarray().sum(axis = 0))\n",
        "\n",
        "X = pd.DataFrame(X, columns = vec.get_feature_names_out())\n",
        "y = sample_jobs['applied']\n",
        "\n",
        "X_train, X_test, y_train, y_test = train_test_split(X, y, stratify = y)"
      ],
      "metadata": {
        "colab": {
          "base_uri": "https://localhost:8080/"
        },
        "id": "nuN7M9XAoF9F",
        "outputId": "b7002a94-e608-40a1-b9ba-ac9fb9488fae"
      },
      "execution_count": null,
      "outputs": [
        {
          "output_type": "stream",
          "name": "stdout",
          "text": [
            "['285ab9448d2751ee57ece7f762c39095' '285f89b802bcb2651801455c86d78f2a'\n",
            " '3948ead63a9f2944218de038d8934305' '4122cb13c7a474c1976c9706ae36521d'\n",
            " '5680522b8e2bb01943234bce7bf84534' '7810ccd41bf26faaa2c4e1f20db70a71'\n",
            " '81dc9bdb52d04dc20036dbd8313ed055' '9adeb82fffb5444e81fa0ce8ad8afe7a'\n",
            " 'a1d50185e7426cbb0acad1e6ca74b9aa' 'aace49c7d80767cffec0e513ae886df0'\n",
            " 'b24d516bb65a5a58079f0f3526c87c57' 'f47330643ae134ca204bf6b2481fec47'\n",
            " 'fe2d010308a6b3799a3d9c728ee74244']\n"
          ]
        }
      ]
    },
    {
      "cell_type": "code",
      "source": [
        "from sklearn.ensemble import RandomForestClassifier\n",
        "\n",
        "rf = RandomForestClassifier(max_depth = 3)\n",
        "print('K-fold accuracy score: ',cross_val_score(rf, X, y).mean())\n",
        "\n",
        "rf.fit(X_train, y_train)\n",
        "print('Sample accuracy: ',rf.score(X_test, y_test))"
      ],
      "metadata": {
        "colab": {
          "base_uri": "https://localhost:8080/"
        },
        "id": "h65s2kXqR9q4",
        "outputId": "992db63b-da43-4fab-a91a-783e613589d0"
      },
      "execution_count": null,
      "outputs": [
        {
          "output_type": "stream",
          "name": "stdout",
          "text": [
            "K-fold accuracy score:  0.66\n",
            "Sample accuracy:  0.7142857142857143\n"
          ]
        }
      ]
    },
    {
      "cell_type": "markdown",
      "source": [
        "# 정확도 올리기\n",
        "- Company - job관계 확인\n",
        "- Algorithm 변경"
      ],
      "metadata": {
        "id": "xUn1uUCGaCu8"
      }
    },
    {
      "cell_type": "code",
      "source": [
        "from sklearn.linear_model import LinearRegression, LogisticRegression\n",
        "from sklearn.naive_bayes import GaussianNB\n",
        "from sklearn.neighbors import KNeighborsRegressor, KNeighborsClassifier\n",
        "\n",
        "linear_reg = LinearRegression()\n",
        "logistic_reg = LogisticRegression()\n",
        "nb = GaussianNB()\n",
        "knn_r = KNeighborsRegressor()\n",
        "knn_c = KNeighborsClassifier()\n",
        "\n",
        "models = {'Linear Regression': linear_reg, 'Logistic Regression':logistic_reg, 'Naive Bayes (Gaussian)': nb, 'K-Neighbors Regressor':knn_r, 'KNeighborsClassifier':knn_c}\n",
        "for label, model in models.items():\n",
        "  print(label +'accuracy: ',cross_val_score(model, X, y).mean())\n",
        "\n",
        "# Logistic Regression이 가장 높게 측정"
      ],
      "metadata": {
        "id": "zofh_aV_v5fk",
        "colab": {
          "base_uri": "https://localhost:8080/"
        },
        "outputId": "308e9db6-a852-4615-b829-9e975c932551"
      },
      "execution_count": null,
      "outputs": [
        {
          "output_type": "stream",
          "name": "stdout",
          "text": [
            "Linear Regressionaccuracy:  -0.13090740740740758\n",
            "Logistic Regressionaccuracy:  0.78\n",
            "Naive Bayes (Gaussian)accuracy:  0.48\n",
            "K-Neighbors Regressoraccuracy:  -0.12200000000000003\n",
            "KNeighborsClassifieraccuracy:  0.7066666666666668\n"
          ]
        }
      ]
    },
    {
      "cell_type": "markdown",
      "source": [
        "# Logistic Regression 사용"
      ],
      "metadata": {
        "id": "ycM4geb_p_gN"
      }
    },
    {
      "cell_type": "code",
      "source": [
        "logistic_reg = LogisticRegression().fit(X_train, y_train)\n",
        "print('Accuracy: ', logistic_reg.score(X_test, y_test))"
      ],
      "metadata": {
        "colab": {
          "base_uri": "https://localhost:8080/"
        },
        "id": "shm9MzTnqBVW",
        "outputId": "f0fe4198-ea4c-41ba-f6e2-e283f1f4e945"
      },
      "execution_count": null,
      "outputs": [
        {
          "output_type": "stream",
          "name": "stdout",
          "text": [
            "Accuracy:  0.7142857142857143\n"
          ]
        }
      ]
    },
    {
      "cell_type": "markdown",
      "source": [
        "# Company - job관계 확인\n",
        "- 아래의 사진은 같은 user에 대하여 같은 matched tags를 가지고 job의 tag 수도 같은 경우이지만 하나에는 지원을 하고 하나는 지원을 하지 않았다.\n",
        "- 이러한 경우에는 단순히 matched tags를 input data로 사용한 학습으로 지원 여부를 예측할 수 없다.\n",
        "- 이러한 상황에서 추가적으로 고려해야 할 사항\n",
        "  - **jobID에 따른 회사의 정보 (규모)**\n",
        "  - **2175번의 jobID가 가진 tags중 특정 tag가 user의 기피 tag일 경우**  \n",
        "    **(특정 tag가 존재할 경우 지원을 포기하는 상황)**"
      ],
      "metadata": {
        "id": "2f-Cqq5_qkFb"
      }
    },
    {
      "cell_type": "markdown",
      "source": [
        "![image.png](data:image/png;base64,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)"
      ],
      "metadata": {
        "id": "lH_kqtBm5maO"
      }
    },
    {
      "cell_type": "markdown",
      "source": [
        "jobID:1e48c4420b7073bc11916c6c1de226bb, c399862d3b9d6b76c8436e924a68c45b의 회사정보를 살펴본다."
      ],
      "metadata": {
        "id": "ehGs8v776i7B"
      }
    },
    {
      "cell_type": "code",
      "source": [
        "print(job_companies[job_companies['jobID'] == '1e48c4420b7073bc11916c6c1de226bb'])\n",
        "print(job_companies[job_companies['jobID'] == 'c399862d3b9d6b76c8436e924a68c45b'])"
      ],
      "metadata": {
        "id": "pOfu804sqMUe",
        "colab": {
          "base_uri": "https://localhost:8080/"
        },
        "outputId": "b4cd5946-696b-403c-cc53-490cbd4cae2f"
      },
      "execution_count": null,
      "outputs": [
        {
          "output_type": "stream",
          "name": "stdout",
          "text": [
            "                           companyID                             jobID  \\\n",
            "29  eddea82ad2755b24c4e168c5fc2ebd40  1e48c4420b7073bc11916c6c1de226bb   \n",
            "\n",
            "   companySize  \n",
            "29       11-50  \n",
            "                            companyID                             jobID  \\\n",
            "383  eddea82ad2755b24c4e168c5fc2ebd40  c399862d3b9d6b76c8436e924a68c45b   \n",
            "\n",
            "    companySize  \n",
            "383       11-50  \n"
          ]
        }
      ]
    },
    {
      "cell_type": "markdown",
      "source": [
        "- 두 개의 job모두 같은 회사이며 회사의 크기 또한 동일하다.\n",
        "- 순서상 1628번에서 해당 회사에 이미 지원했으므로 2175에 지원하지 않았을 가능성을 확인해야 한다.\n",
        "- 특정 user가 지원 또는 지원하지 않을 jobID에 따른 companyID를 살펴보아야 한다."
      ],
      "metadata": {
        "id": "RJYo4kl57D2_"
      }
    },
    {
      "cell_type": "code",
      "source": [
        "jc = job_companies.set_index('jobID')\n",
        "\n",
        "sample_jobs['companyID'] = sample_jobs['jobID'].apply(lambda x: jc.at[x, 'companyID'])\n",
        "print(sample_jobs)\n",
        "sample_jobs.to_excel('sample_jobs.xlsx')"
      ],
      "metadata": {
        "colab": {
          "base_uri": "https://localhost:8080/"
        },
        "id": "0-e5aBYr7jeb",
        "outputId": "fc0f1132-2489-4202-e99e-cf8d7adfffd1"
      },
      "execution_count": null,
      "outputs": [
        {
          "output_type": "stream",
          "name": "stdout",
          "text": [
            "                                 jobID  applied  \\\n",
            "0     15de21c670ae7c3f6f3f1f37029303c9        0   \n",
            "21    26337353b7962f533d78c762373b3318        0   \n",
            "378   ae5e3ce40e0404a45ecacaaf05e5f735        0   \n",
            "882   eddea82ad2755b24c4e168c5fc2ebd40        0   \n",
            "910   2b8a61594b1f4c4db0902a8a395ced93        0   \n",
            "989   5ea1649a31336092c05438df996a3e59        0   \n",
            "1025  298f95e1bf9136124592c8d4825a06fc        0   \n",
            "1628  1e48c4420b7073bc11916c6c1de226bb        1   \n",
            "1688  6e2713a6efee97bacb63e52c54f0ada0        0   \n",
            "1725  f73b76ce8949fe29bf2a537cfa420e8f        1   \n",
            "1858  d64a340bcb633f536d56e51874281454        0   \n",
            "2175  c399862d3b9d6b76c8436e924a68c45b        0   \n",
            "2244  c8ba76c279269b1c6bc8a07e38e78fa4        0   \n",
            "2728  5e388103a391daabe3de1d76a6739ccd        0   \n",
            "2873  1068c6e4c8051cfd4e9ea8072e3189e2        1   \n",
            "2899  0c74b7f78409a4022a2c4c5a5ca3ee19        1   \n",
            "2953  062ddb6c727310e76b6200b7c71f63b5        1   \n",
            "3088  7bcdf75ad237b8e02e301f4091fb6bc8        0   \n",
            "3168  b495ce63ede0f4efc9eec62cb947c162        0   \n",
            "4201  7dcd340d84f762eba80aa538b0c527f7        0   \n",
            "4411  65658fde58ab3c2b6e5132a39fae7cb9        0   \n",
            "4550  ad972f10e0800b49d76fed33a21f6698        1   \n",
            "5165  ba2fd310dcaa8781a9a652a31baf3c68        0   \n",
            "5299  839ab46820b524afda05122893c2fe8e        0   \n",
            "5667  0f840be9b8db4d3fbd5ba2ce59211f55        1   \n",
            "5809  5737034557ef5b8c02c0e46513b98f90        0   \n",
            "5870  a96b65a721e561e1e3de768ac819ffbb        1   \n",
            "\n",
            "                                           matched tags  matched tags num  \\\n",
            "0                                                    []                 0   \n",
            "21                   [f47330643ae134ca204bf6b2481fec47]                 1   \n",
            "378                                                  []                 0   \n",
            "882   [4122cb13c7a474c1976c9706ae36521d, f47330643ae...                 3   \n",
            "910                  [f47330643ae134ca204bf6b2481fec47]                 1   \n",
            "989                  [f47330643ae134ca204bf6b2481fec47]                 1   \n",
            "1025  [5680522b8e2bb01943234bce7bf84534, 3948ead63a9...                 2   \n",
            "1628                 [81dc9bdb52d04dc20036dbd8313ed055]                 1   \n",
            "1688                                                 []                 0   \n",
            "1725                 [f47330643ae134ca204bf6b2481fec47]                 1   \n",
            "1858                                                 []                 0   \n",
            "2175                 [81dc9bdb52d04dc20036dbd8313ed055]                 1   \n",
            "2244                 [81dc9bdb52d04dc20036dbd8313ed055]                 1   \n",
            "2728                                                 []                 0   \n",
            "2873                 [3948ead63a9f2944218de038d8934305]                 1   \n",
            "2899  [285f89b802bcb2651801455c86d78f2a, 3948ead63a9...                 4   \n",
            "2953  [81dc9bdb52d04dc20036dbd8313ed055, aace49c7d80...                 3   \n",
            "3088                 [4122cb13c7a474c1976c9706ae36521d]                 1   \n",
            "3168                 [3948ead63a9f2944218de038d8934305]                 1   \n",
            "4201                 [4122cb13c7a474c1976c9706ae36521d]                 1   \n",
            "4411                 [4122cb13c7a474c1976c9706ae36521d]                 1   \n",
            "4550                 [f47330643ae134ca204bf6b2481fec47]                 1   \n",
            "5165                 [f47330643ae134ca204bf6b2481fec47]                 1   \n",
            "5299                                                 []                 0   \n",
            "5667                 [3948ead63a9f2944218de038d8934305]                 1   \n",
            "5809                 [81dc9bdb52d04dc20036dbd8313ed055]                 1   \n",
            "5870                 [81dc9bdb52d04dc20036dbd8313ed055]                 1   \n",
            "\n",
            "      job tag num  tag ratio                         companyID  \n",
            "0               2   0.000000  4f6ffe13a5d75b2d6a3923922b3922e5  \n",
            "21              2  50.000000  67c6a1e7ce56d3d6fa748ab6d9af3fd7  \n",
            "378             4   0.000000  9b04d152845ec0a378394003c96da594  \n",
            "882            10  30.000000  3b8a614226a953a8cd9526fca6fe9ba5  \n",
            "910             5  20.000000  33e8075e9970de0cfea955afd4644bb2  \n",
            "989             4  25.000000  eddea82ad2755b24c4e168c5fc2ebd40  \n",
            "1025            4  50.000000  3a066bda8c96b9478bb0512f0a43028c  \n",
            "1628            8  12.500000  eddea82ad2755b24c4e168c5fc2ebd40  \n",
            "1688            1   0.000000  88ae6372cfdc5df69a976e893f4d554b  \n",
            "1725            4  25.000000  539fd53b59e3bb12d203f45a912eeaf2  \n",
            "1858            3   0.000000  37f0e884fbad9667e38940169d0a3c95  \n",
            "2175            8  12.500000  eddea82ad2755b24c4e168c5fc2ebd40  \n",
            "2244            5  20.000000  54f5f4071faca32ad5285fef87b78646  \n",
            "2728            5   0.000000  4e0928de075538c593fbdabb0c5ef2c3  \n",
            "2873            5  20.000000  3b8a614226a953a8cd9526fca6fe9ba5  \n",
            "2899            5  80.000000  5fd0b37cd7dbbb00f97ba6ce92bf5add  \n",
            "2953            4  75.000000  c3c59e5f8b3e9753913f4d435b53c308  \n",
            "3088           10  10.000000  fa14d4fe2f19414de3ebd9f63d5c0169  \n",
            "3168            4  25.000000  4f6ffe13a5d75b2d6a3923922b3922e5  \n",
            "4201            3  33.333333  c3c59e5f8b3e9753913f4d435b53c308  \n",
            "4411            6  16.666667  eddea82ad2755b24c4e168c5fc2ebd40  \n",
            "4550            4  25.000000  5fd0b37cd7dbbb00f97ba6ce92bf5add  \n",
            "5165           10  10.000000  08419be897405321542838d77f855226  \n",
            "5299            2   0.000000  3b8a614226a953a8cd9526fca6fe9ba5  \n",
            "5667            4  25.000000  4f6ffe13a5d75b2d6a3923922b3922e5  \n",
            "5809            7  14.285714  fa14d4fe2f19414de3ebd9f63d5c0169  \n",
            "5870            3  33.333333  3b8a614226a953a8cd9526fca6fe9ba5  \n"
          ]
        }
      ]
    },
    {
      "cell_type": "markdown",
      "source": [
        "- 아래의 두 예시처럼 일치하는 tag 및 회사정보에도 불구하고 3168번일때에는 지원하지 않았으나, 5667번에서는 지원하였다.\n",
        "- 따라서, 순서가 지원 여부 결정에 영향을 미치진 않은 것으로 판단된다."
      ],
      "metadata": {
        "id": "izrHX0-D9uqh"
      }
    },
    {
      "cell_type": "markdown",
      "source": [
        "![image.png](data:image/png;base64,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)"
      ],
      "metadata": {
        "id": "sjTq0JHZ-LVf"
      }
    },
    {
      "cell_type": "markdown",
      "source": [
        "이전 모델은 user의 선호하는 tag를 fit으로 사용하고 job의 tag와 일치하는 tag를 transform으로 feature extraction을 하였으나,  \n",
        " 이번에는 user가 선호하는 tag가 아닌 전체 tag를 fit으로 사용하고 jobID에 해당하는 모든 tags를 transform으로 사용하고자 한다."
      ],
      "metadata": {
        "id": "ntC-X98z-qOj"
      }
    },
    {
      "cell_type": "markdown",
      "source": [
        "# Sample Model\n",
        "- All tags를 기반으로 한 feature extraction으로 진행\n",
        "- CountVectorizer"
      ],
      "metadata": {
        "id": "KlcHirfl_QUo"
      }
    },
    {
      "cell_type": "code",
      "source": [
        "from sklearn.feature_extraction.text import CountVectorizer\n",
        "from sklearn.model_selection import train_test_split, cross_val_score\n",
        "\n",
        "vec_j = CountVectorizer()\n",
        "vec_m = CountVectorizer()\n",
        "vec_j.fit(tags['tagID'])\n",
        "vec_m.fit(sample_tags)\n",
        "\n",
        "X_j = []\n",
        "X_m = []\n",
        "\n",
        "for i in sample_jobs.index:\n",
        "  X_j.append(vec_j.transform(sample_jobs.at[i, 'job tags']).toarray().sum(axis = 0))\n",
        "  X_m.append(vec_m.transform(sample_jobs.at[i, 'matched tags']).toarray().sum(axis = 0))\n",
        "\n",
        "X_j = pd.DataFrame(X_j, columns = vec_j.get_feature_names_out())\n",
        "X_m = pd.DataFrame(X_m, columns = vec_m.get_feature_names_out())\n",
        "y = sample_jobs['applied']\n",
        "\n"
      ],
      "metadata": {
        "id": "zqponFgq7o-S"
      },
      "execution_count": null,
      "outputs": []
    },
    {
      "cell_type": "code",
      "source": [
        "from sklearn.linear_model import LogisticRegression\n",
        "\n",
        "Xj_train, Xj_test, yj_train, yj_test = train_test_split(X_j, y, stratify = y)\n",
        "Xm_train, Xm_test, ym_train, ym_test = train_test_split(X_m, y, stratify = y)\n",
        "\n",
        "lr_j = LogisticRegression().fit(Xj_train, yj_train)\n",
        "lr_m = LogisticRegression().fit(Xm_train, ym_train)\n",
        "print(lr_j.score(Xj_test, yj_test), lr_m.score(Xm_test, ym_test))"
      ],
      "metadata": {
        "colab": {
          "base_uri": "https://localhost:8080/"
        },
        "id": "e9VgkiOUAdFr",
        "outputId": "bb931ccd-a3fb-4822-d24e-00bdeded760b"
      },
      "execution_count": null,
      "outputs": [
        {
          "output_type": "stream",
          "name": "stdout",
          "text": [
            "0.7142857142857143 0.8571428571428571\n"
          ]
        }
      ]
    },
    {
      "cell_type": "code",
      "source": [
        "from sklearn.model_selection import cross_val_score\n",
        "\n",
        "print(cross_val_score(lr_j, X_j, y).mean())\n",
        "print(cross_val_score(lr_m, X_m, y).mean())"
      ],
      "metadata": {
        "colab": {
          "base_uri": "https://localhost:8080/"
        },
        "id": "IfFrfu71ArJ3",
        "outputId": "9b74c9e2-ae91-4235-b88d-07b5ef170771"
      },
      "execution_count": null,
      "outputs": [
        {
          "output_type": "stream",
          "name": "stdout",
          "text": [
            "0.66\n",
            "0.78\n"
          ]
        }
      ]
    },
    {
      "cell_type": "markdown",
      "source": [
        "# 기존의 방식보다 정확도가 낮음"
      ],
      "metadata": {
        "id": "w3LugnNJDXgP"
      }
    },
    {
      "cell_type": "code",
      "source": [
        "def match_tag(user_id, job_id):\n",
        "\n",
        "  # Sample user가 원하는 tag의 IDs\n",
        "  sample_tags = set(user_tags[user_tags['userID'] == user_id]['tagID'])\n",
        "  job_tags = set(jt.at[job_id, 'tagID'])\n",
        "  job_tag_num = jt.at[job_id, 'tag num']\n",
        "  matched_tags = list(sample_tags.intersection(job_tags))\n",
        "  return len(matched_tags) / job_tag_num\n",
        "\n",
        "train_data['tag ratio'] = train_data.apply(lambda x: match_tag(x['userID'], x['jobID']))\n",
        "print(train_data)"
      ],
      "metadata": {
        "id": "7fBaVouYDU8o"
      },
      "execution_count": null,
      "outputs": []
    }
  ]
}