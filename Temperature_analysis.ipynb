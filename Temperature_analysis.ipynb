{
  "nbformat": 4,
  "nbformat_minor": 0,
  "metadata": {
    "colab": {
      "name": "Temperature_analysis.ipynb",
      "provenance": [],
      "collapsed_sections": [],
      "mount_file_id": "1VTjdA8dJfzWHi1cDVfyoW4wkagvtf4KQ",
      "authorship_tag": "ABX9TyPxX4o8h7CNlON7UBX6g/V7",
      "include_colab_link": true
    },
    "kernelspec": {
      "name": "python3",
      "display_name": "Python 3"
    },
    "language_info": {
      "name": "python"
    }
  },
  "cells": [
    {
      "cell_type": "markdown",
      "metadata": {
        "id": "view-in-github",
        "colab_type": "text"
      },
      "source": [
        "<a href=\"https://colab.research.google.com/github/Jinwooseol/Python-machine-learning/blob/main/Temperature_analysis.ipynb\" target=\"_parent\"><img src=\"https://colab.research.google.com/assets/colab-badge.svg\" alt=\"Open In Colab\"/></a>"
      ]
    },
    {
      "cell_type": "code",
      "execution_count": null,
      "metadata": {
        "id": "1cFvt6D2x1T2"
      },
      "outputs": [],
      "source": [
        "# 2009 ~ 2019년 1~12 month 평균최고, 최고극값, 평균최저, 최적극값, 강수량\n",
        "\n",
        "# 2009 1~12 month 평균 최고 기운 --- plot\n",
        "\n",
        "# 2009 1~12 month 최대 일교차, (최고극값 - 최저극값), (평균최고 - 평균최저) --- plot\n",
        "\n",
        "# 2009 1~12 month 강수량 - plot, rank 매겨 가장 건조할 달 순서로 순위\n",
        "\n",
        "# 지난 2009~2019년간 3월 평균 최고기온 - plot\n",
        "\n"
      ]
    },
    {
      "cell_type": "code",
      "source": [
        "import numpy as np\n",
        "import matplotlib.pyplot as plt\n",
        "import sys\n",
        "sys.path.append('/content/drive/MyDrive')\n",
        "\n",
        "np.set_printoptions(precision = 1, suppress = True)"
      ],
      "metadata": {
        "id": "SmNTc8d2z14_"
      },
      "execution_count": null,
      "outputs": []
    },
    {
      "cell_type": "code",
      "source": [
        "def print_info(obj):\n",
        "  print('type: ', type(obj))\n",
        "  print('print: {}'.format(obj))\n",
        "\n",
        "  # 1D array\n",
        "  print('ndim: ', obj.ndim)\n",
        "  print('shape: ', obj.shape)\n",
        "  print('size: ', obj.size)\n",
        "  print('dtype: ', obj.dtype) # dtype: Data type\n",
        "  print('itemsize: ', obj.itemsize) # itemsize: Number of bytes that one of element occupied\n",
        "  print('data: ', obj.data)  # data: Address of array"
      ],
      "metadata": {
        "id": "xODj7PyD1f-R"
      },
      "execution_count": null,
      "outputs": []
    },
    {
      "cell_type": "code",
      "source": [
        "data = []\n",
        "\n",
        "with open('/content/drive/MyDrive/인공지능 학습/기상개황_20220324.csv') as f:\n",
        "  np_data = np.loadtxt(f, delimiter=',',dtype=np.float64) # 2009 ~ 2019년도 기상 자료\n",
        "\n",
        "# [기온(평균최고), 기온(최고극값), 기온(평균최저), 기온(최저극값), 강수량]\n",
        "data = np.array(np.hsplit(np_data, 11))\n",
        "print_info(data)"
      ],
      "metadata": {
        "colab": {
          "base_uri": "https://localhost:8080/"
        },
        "id": "BsqMVTZez5Jh",
        "outputId": "91c624d1-1ece-4868-a064-03e0f2629927"
      },
      "execution_count": null,
      "outputs": [
        {
          "output_type": "stream",
          "name": "stdout",
          "text": [
            "type:  <class 'numpy.ndarray'>\n",
            "print: [[[  19.2   32.5   12.1   -7.6 1772.9]\n",
            "  [   7.9   12.7    0.    -7.6   17. ]\n",
            "  [  12.2   17.4    5.    -3.1   79. ]\n",
            "  [  13.8   20.     6.1   -0.6   72.7]\n",
            "  [  19.1   23.3   10.7    3.3   95.5]\n",
            "  [  22.8   26.9   15.3   12.5  173.4]\n",
            "  [  25.1   29.8   18.7   15.8  187.9]\n",
            "  [  26.3   29.    21.1   18.4  886.1]\n",
            "  [  28.1   32.5   22.9   19.8   84.8]\n",
            "  [  26.4   29.1   20.1   17.6   20. ]\n",
            "  [  23.4   26.8   15.4   12.4   74.4]\n",
            "  [  15.2   24.1    7.7   -0.1   69. ]\n",
            "  [   9.8   17.2    1.8   -6.    13.1]]\n",
            "\n",
            " [[  19.    34.1   11.7   -8.1 1441.9]\n",
            "  [   7.7   15.6   -1.1   -7.2   37.6]\n",
            "  [  10.    18.4    2.4   -5.    91.1]\n",
            "  [  11.5   18.5    4.5   -2.5  132.9]\n",
            "  [  16.    21.     7.8    1.9  146.3]\n",
            "  [  21.3   27.8   13.9    8.5  186.8]\n",
            "  [  25.5   29.    19.4   12.4   94.4]\n",
            "  [  28.3   32.4   23.    20.2  291.9]\n",
            "  [  30.9   34.1   25.6   24.   165.3]\n",
            "  [  27.9   32.3   21.4   16.8  182.5]\n",
            "  [  22.5   26.9   15.1    5.5   72.6]\n",
            "  [  16.4   21.     7.2    1.8    2. ]\n",
            "  [   9.9   19.3    1.    -8.1   38.5]]\n",
            "\n",
            " [[  18.8   33.    11.3  -12.8 1478.6]\n",
            "  [   4.6    9.5   -4.8  -12.8    0. ]\n",
            "  [  10.9   17.6    2.7   -3.4   70.9]\n",
            "  [  12.6   20.1    3.1   -2.5   31.2]\n",
            "  [  17.3   21.4    9.3    5.3  100. ]\n",
            "  [  20.8   24.2   14.4   11.7  170. ]\n",
            "  [  24.8   27.8   19.    15.2  243.2]\n",
            "  [  28.4   33.    22.5   19.4  418.1]\n",
            "  [  28.9   32.3   23.8   19.5  110. ]\n",
            "  [  27.1   31.6   20.5   14.8   56.8]\n",
            "  [  22.3   27.4   13.9    6.4  142.5]\n",
            "  [  18.3   24.6   10.9    0.9  128.7]\n",
            "  [   9.1   15.3    0.7   -5.6    7.2]]\n",
            "\n",
            " [[  18.6   34.5   11.3   -9.9 1983.3]\n",
            "  [   7.4   13.7   -0.7   -6.5   19.5]\n",
            "  [   7.2   16.4   -0.9   -9.9   22.1]\n",
            "  [  12.3   19.7    4.9   -3.6  173.9]\n",
            "  [  18.    23.3   10.3    2.1  213.8]\n",
            "  [  23.1   28.2   15.9   11.4   36.1]\n",
            "  [  24.9   27.8   19.1   15.9   97.8]\n",
            "  [  28.5   33.1   23.3   20.2  502. ]\n",
            "  [  30.7   34.5   25.1   20.6  169.4]\n",
            "  [  26.1   29.2   19.1   14.1  356. ]\n",
            "  [  22.7   25.6   14.     8.5  146.5]\n",
            "  [  14.7   19.6    6.5    0.6   83.5]\n",
            "  [   7.1   14.7   -0.8   -7.7  162.7]]\n",
            "\n",
            " [[  19.5   35.    11.8  -10.7 1130.1]\n",
            "  [   7.2   13.3   -1.4   -8.1   22.5]\n",
            "  [   9.3   17.2    0.4  -10.7   46.6]\n",
            "  [  14.7   19.3    5.8   -2.    93.7]\n",
            "  [  17.1   23.4    8.3    3.5  136.2]\n",
            "  [  22.4   28.1   14.7   10.   201. ]\n",
            "  [  25.3   27.8   19.6   15.5  159. ]\n",
            "  [  29.1   31.9   23.9   21.8  131. ]\n",
            "  [  32.1   35.    25.    21.3  144.5]\n",
            "  [  27.6   31.4   20.7   17.3   30.2]\n",
            "  [  23.5   29.8   15.5    9.1   91.2]\n",
            "  [  15.9   23.8    7.1   -0.8   61.6]\n",
            "  [   9.8   14.5    1.7   -4.    12.6]]\n",
            "\n",
            " [[  19.2   32.9   12.    -6.  1693.1]\n",
            "  [   9.7   15.5    1.2   -5.4    9.6]\n",
            "  [   9.9   17.5    2.7   -5.6   44.1]\n",
            "  [  14.5   21.6    6.2   -0.6  136.7]\n",
            "  [  19.3   23.9   11.2    4.1  147.8]\n",
            "  [  23.2   27.7   15.4   10.4  145.9]\n",
            "  [  24.9   29.9   19.    16.5   44.5]\n",
            "  [  28.1   32.9   22.4   19.3  169.3]\n",
            "  [  27.1   32.2   22.2   19.4  642.2]\n",
            "  [  26.5   30.6   19.9   17.2  128.7]\n",
            "  [  22.1   25.7   14.6   10.9  162.5]\n",
            "  [  17.4   21.6    9.2    1.8   40.5]\n",
            "  [   8.2   15.2   -0.5   -6.    21.3]]\n",
            "\n",
            " [[  19.5   33.5   12.2   -7.8 1396.7]\n",
            "  [   9.4   13.9    0.9   -4.9   50.7]\n",
            "  [  10.2   15.4    1.4   -7.8   30.5]\n",
            "  [  14.3   20.9    5.4   -4.1   76.5]\n",
            "  [  17.8   23.9   10.6    5.9  268. ]\n",
            "  [  22.9   30.2   15.4   12.3  183. ]\n",
            "  [  24.7   28.1   18.4   13.7   69.2]\n",
            "  [  27.    31.9   21.7   18.4  176.7]\n",
            "  [  29.3   33.5   23.5   20.5  132.5]\n",
            "  [  25.9   28.8   19.2   17.   172. ]\n",
            "  [  22.9   26.5   14.4    5.8   62. ]\n",
            "  [  17.5   23.6   10.9    1.1  124.1]\n",
            "  [  12.4   17.3    4.4   -2.5   51.5]]\n",
            "\n",
            " [[  19.8   37.3   12.5  -10.2 1760.2]\n",
            "  [   7.6   16.6   -0.3  -10.2   59.5]\n",
            "  [  10.4   15.8    1.3   -4.    63.7]\n",
            "  [  14.4   19.6    6.3   -4.3  133.5]\n",
            "  [  19.2   24.2   11.9    8.   198.5]\n",
            "  [  23.7   30.5   15.7   11.5  108.8]\n",
            "  [  25.3   28.7   19.5   15.7  115.2]\n",
            "  [  28.5   32.7   23.    19.5  188.8]\n",
            "  [  31.8   37.3   24.6   17.5  141.5]\n",
            "  [  26.3   29.7   20.7   17.1  407.9]\n",
            "  [  22.3   28.3   16.1    9.8  182.4]\n",
            "  [  16.4   20.8    8.3    0.1   56.6]\n",
            "  [  12.1   17.6    3.2   -3.2  103.8]]\n",
            "\n",
            " [[  19.6   36.2   11.7   -7.7 1014.4]\n",
            "  [   9.1   15.1    0.1   -7.7   12. ]\n",
            "  [  10.8   17.7    0.9   -5.7   33.8]\n",
            "  [  13.9   18.1    5.2   -2.3   35.7]\n",
            "  [  19.    23.2   11.4    5.   105.1]\n",
            "  [  23.7   28.2   15.4   12.8   39.2]\n",
            "  [  25.2   30.4   18.4   15.4   49.8]\n",
            "  [  29.2   32.7   23.6   21.2  172.1]\n",
            "  [  30.5   36.2   24.3   18.7   82.5]\n",
            "  [  26.5   29.7   19.6   14.5  335. ]\n",
            "  [  22.3   28.7   15.1    7.3  138.3]\n",
            "  [  16.3   23.6    6.9   -1.     0.3]\n",
            "  [   8.6   14.5   -0.7   -6.1   10.6]]\n",
            "\n",
            " [[  19.2   36.4   11.8   -9.9 1778.6]\n",
            "  [   6.5   14.    -1.9   -9.9   40.9]\n",
            "  [   8.9   14.7   -0.2   -9.6   52.5]\n",
            "  [  14.5   22.3    6.    -0.7  206.1]\n",
            "  [  18.7   24.3   11.1    3.   156.4]\n",
            "  [  21.5   26.6   15.     9.8  155.8]\n",
            "  [  25.2   31.3   18.9   15.1  276.7]\n",
            "  [  30.2   35.4   23.9   17.8  122.1]\n",
            "  [  31.3   36.4   25.3   21.2  169.7]\n",
            "  [  25.3   30.    19.5   14.9  308.4]\n",
            "  [  21.1   25.6   13.     7.9  123.7]\n",
            "  [  17.5   22.5    8.9    2.7  107.3]\n",
            "  [  10.1   18.8   -2.    -7.1   59. ]]\n",
            "\n",
            " [[  19.8   35.    12.5   -4.4 1623.2]\n",
            "  [   9.6   13.7    0.5   -4.4   12.7]\n",
            "  [  11.3   16.5    2.7   -4.2   51.5]\n",
            "  [  15.1   21.     6.7    0.5   75.4]\n",
            "  [  17.3   23.4    9.9    2.1   85. ]\n",
            "  [  23.6   30.1   15.7   11.    76.1]\n",
            "  [  24.7   29.7   18.3   15.5  324.3]\n",
            "  [  27.1   30.9   22.4   19.8  358.9]\n",
            "  [  30.1   35.    24.6   20.3  156.3]\n",
            "  [  26.6   30.5   20.7   15.8  279. ]\n",
            "  [  22.8   28.8   15.5   10.4  139.9]\n",
            "  [  17.9   24.     9.4    2.    13.8]\n",
            "  [  11.7   16.6    3.4   -2.8   50.3]]]\n",
            "ndim:  3\n",
            "shape:  (11, 13, 5)\n",
            "size:  715\n",
            "dtype:  float64\n",
            "itemsize:  8\n",
            "data:  <memory at 0x7f60c9bdeb50>\n"
          ]
        }
      ]
    },
    {
      "cell_type": "code",
      "source": [
        "print(data[0,:,:]) # 2009년도 자료 "
      ],
      "metadata": {
        "id": "j31GXXlc011K",
        "colab": {
          "base_uri": "https://localhost:8080/"
        },
        "outputId": "1fb2633b-9091-4d4d-856a-69278e03784b"
      },
      "execution_count": null,
      "outputs": [
        {
          "output_type": "stream",
          "name": "stdout",
          "text": [
            "[[  19.2   32.5   12.1   -7.6 1772.9]\n",
            " [   7.9   12.7    0.    -7.6   17. ]\n",
            " [  12.2   17.4    5.    -3.1   79. ]\n",
            " [  13.8   20.     6.1   -0.6   72.7]\n",
            " [  19.1   23.3   10.7    3.3   95.5]\n",
            " [  22.8   26.9   15.3   12.5  173.4]\n",
            " [  25.1   29.8   18.7   15.8  187.9]\n",
            " [  26.3   29.    21.1   18.4  886.1]\n",
            " [  28.1   32.5   22.9   19.8   84.8]\n",
            " [  26.4   29.1   20.1   17.6   20. ]\n",
            " [  23.4   26.8   15.4   12.4   74.4]\n",
            " [  15.2   24.1    7.7   -0.1   69. ]\n",
            " [   9.8   17.2    1.8   -6.    13.1]]\n"
          ]
        }
      ]
    },
    {
      "cell_type": "code",
      "source": [
        "# 2009 1~12 month 평균 최고 기온 --- plot\n",
        "\n",
        "tn_avg_highest = data[0, 1:, 0]\n",
        "x = np.arange(1, 13)\n",
        "\n",
        "plt.figure(1)\n",
        "plt.bar(x, tn_avg_highest)\n",
        "plt.xticks(x)\n",
        "plt.title('Busan monthly maximum average temperature in 2009')\n",
        "plt.xlabel('Month')\n",
        "plt.ylabel('Celsius temperature')\n",
        "\n",
        "f_temp = tn_avg_highest * 1.8 + 32\n",
        "plt.figure(2)\n",
        "plt.bar(x, f_temp)\n",
        "plt.xticks(x)\n",
        "plt.title('Busan monthly maximum average temperature in 2009')\n",
        "plt.xlabel('Month')\n",
        "plt.ylabel('Fahrenheit temperature')\n",
        "\n",
        "plt.show()\n"
      ],
      "metadata": {
        "id": "ljvrPkrwYNw2",
        "colab": {
          "base_uri": "https://localhost:8080/",
          "height": 573
        },
        "outputId": "871fa7f6-214f-4a40-9c82-0e248cfd1eb8"
      },
      "execution_count": null,
      "outputs": [
        {
          "output_type": "display_data",
          "data": {
            "text/plain": [
              "<Figure size 432x288 with 1 Axes>"
            ],
            "image/png": "[encoded data removed]"
          },
          "metadata": {
            "needs_background": "light"
          }
        },
        {
          "output_type": "display_data",
          "data": {
            "text/plain": [
              "<Figure size 432x288 with 1 Axes>"
            ],
            "image/png": "[encoded data removed]"
          },
          "metadata": {
            "needs_background": "light"
          }
        }
      ]
    },
    {
      "cell_type": "code",
      "source": [
        "# 2009 1~12 month 최대 일교차, (최고극값 - 최저극값), (평균최고 - 평균최저) --- plot\n",
        "\n",
        "# 최고극값 - 최저극값\n",
        "#diurnal temperature\n",
        "\n",
        "dc_temp = data[0,1:,1] - data[0,1:,3]\n",
        "\n",
        "plt.figure(1)\n",
        "plt.bar(x, dc_temp)\n",
        "plt.xticks(x)\n",
        "plt.title('Busan monthly maximum diurnal temperature in 2009')\n",
        "plt.xlabel('Month')\n",
        "plt.ylabel('Celsius temperature')\n",
        "\n",
        "df_temp = dc_temp * 1.8 + 32\n",
        "plt.figure(2)\n",
        "plt.bar(x, df_temp)\n",
        "plt.xticks(x)\n",
        "plt.title('Busan average monthly maximum diurnal temperature in 2009')\n",
        "plt.xlabel('Month')\n",
        "plt.ylabel('Fahrenheit temperature')\n",
        "\n",
        "plt.show()"
      ],
      "metadata": {
        "id": "ZUz7gkXDczAw",
        "colab": {
          "base_uri": "https://localhost:8080/",
          "height": 573
        },
        "outputId": "d2bab0b7-1d1d-415a-c97a-2fb0895d69fd"
      },
      "execution_count": null,
      "outputs": [
        {
          "output_type": "display_data",
          "data": {
            "text/plain": [
              "<Figure size 432x288 with 1 Axes>"
            ],
            "image/png": "[encoded data removed]"
          },
          "metadata": {
            "needs_background": "light"
          }
        },
        {
          "output_type": "display_data",
          "data": {
            "text/plain": [
              "<Figure size 432x288 with 1 Axes>"
            ],
            "image/png": "[encoded data removed]"
          },
          "metadata": {
            "needs_background": "light"
          }
        }
      ]
    },
    {
      "cell_type": "code",
      "source": [
        "# 2009 1~12 month 최대 일교차, (최고극값 - 최저극값), (평균최고 - 평균최저) --- plot\n",
        "\n",
        "# 평균최고 - 평균최저\n",
        "#diurnal temperature\n",
        "\n",
        "dc_temp = data[0,1:,0] - data[0,1:,2]\n",
        "\n",
        "plt.figure(1)\n",
        "plt.bar(x, dc_temp)\n",
        "plt.xticks(x)\n",
        "plt.title('Busan monthly maximum diurnal temperature in 2009')\n",
        "plt.xlabel('Month')\n",
        "plt.ylabel('Celsius temperature')\n",
        "\n",
        "df_temp = dc_temp * 1.8 + 32\n",
        "plt.figure(2)\n",
        "plt.bar(x, df_temp)\n",
        "plt.xticks(x)\n",
        "plt.title('Busan average monthly maximum diurnal temperature in 2009')\n",
        "plt.xlabel('Month')\n",
        "plt.ylabel('Fahrenheit temperature')\n",
        "\n",
        "plt.show()"
      ],
      "metadata": {
        "colab": {
          "base_uri": "https://localhost:8080/",
          "height": 573
        },
        "id": "GfcfDqaRk6Oy",
        "outputId": "c3b7f5a8-1acc-417e-82ed-6834dea91e64"
      },
      "execution_count": null,
      "outputs": [
        {
          "output_type": "display_data",
          "data": {
            "text/plain": [
              "<Figure size 432x288 with 1 Axes>"
            ],
            "image/png": "[encoded data removed]"
          },
          "metadata": {
            "needs_background": "light"
          }
        },
        {
          "output_type": "display_data",
          "data": {
            "text/plain": [
              "<Figure size 432x288 with 1 Axes>"
            ],
            "image/png": "[encoded data removed]"
          },
          "metadata": {
            "needs_background": "light"
          }
        }
      ]
    },
    {
      "cell_type": "code",
      "source": [
        "# 2009 1~12 month 강수량 - plot\n",
        "\n",
        "precipitation = data[0,1:,4]\n",
        "\n",
        "plt.figure()\n",
        "plt.bar(x, precipitation)\n",
        "plt.xticks(x)\n",
        "plt.title('Busan monthly total precipitation in 2009')\n",
        "plt.xlabel('Month')\n",
        "plt.ylabel('Precipitation')"
      ],
      "metadata": {
        "colab": {
          "base_uri": "https://localhost:8080/",
          "height": 313
        },
        "id": "Dx1l0JexlSiE",
        "outputId": "d8dac5a0-7c7c-49a3-8132-0512682a2ae8"
      },
      "execution_count": null,
      "outputs": [
        {
          "output_type": "execute_result",
          "data": {
            "text/plain": [
              "Text(0, 0.5, 'Precipitation')"
            ]
          },
          "metadata": {},
          "execution_count": 52
        },
        {
          "output_type": "display_data",
          "data": {
            "text/plain": [
              "<Figure size 432x288 with 1 Axes>"
            ],
            "image/png": "[encoded data removed]"
          },
          "metadata": {
            "needs_background": "light"
          }
        }
      ]
    },
    {
      "cell_type": "code",
      "source": [
        "# 2009 1~12 month 강수량 - rank (Ascending)\n",
        "\n",
        "Month = {1:'January', 2:'February', 3:'March', 4:'April', 5:'May', 6:'June', 7:'July', 8:'August', 9:'September', 10:'Octobuer', 11:'November', 12:'December'}\n",
        "\n",
        "indices = precipitation.argsort()\n",
        "month = np.array(list(Month.values()))\n",
        "\n",
        "print(month[indices])\n",
        "print(precipitation[indices])"
      ],
      "metadata": {
        "colab": {
          "base_uri": "https://localhost:8080/"
        },
        "id": "vLxvv5qAloKY",
        "outputId": "67029093-e633-4173-d00b-6e24eaf4c1a4"
      },
      "execution_count": null,
      "outputs": [
        {
          "output_type": "stream",
          "name": "stdout",
          "text": [
            "['December' 'January' 'September' 'November' 'March' 'Octobuer' 'February'\n",
            " 'August' 'April' 'May' 'June' 'July']\n",
            "[ 13.1  17.   20.   69.   72.7  74.4  79.   84.8  95.5 173.4 187.9 886.1]\n"
          ]
        }
      ]
    },
    {
      "cell_type": "code",
      "source": [
        "# 지난 2009~2019년간 3월 평균 최고기온 - plot\n",
        "\n",
        "march_avg_ctemp = data[:,3,0]\n",
        "\n",
        "years = np.arange(2009, 2020)\n",
        "\n",
        "x = np.arange(11)\n",
        "\n",
        "plt.figure(1)\n",
        "plt.bar(x, march_avg_ctemp)\n",
        "plt.xticks(x, years)\n",
        "plt.title('Average highest temperature in March from 2009 to 2019')\n",
        "plt.xlabel('Year')\n",
        "plt.ylabel('Celsius temperature')\n",
        "\n",
        "mf_temp = march_avg_ctemp * 1.8 + 32\n",
        "plt.figure(2)\n",
        "plt.bar(x, mf_temp)\n",
        "plt.xticks(x, years)\n",
        "plt.title('Average highest temperature in March from 2009 to 2019')\n",
        "plt.xlabel('Year')\n",
        "plt.ylabel('Fahrenheit temperature')\n",
        "\n",
        "plt.show()"
      ],
      "metadata": {
        "colab": {
          "base_uri": "https://localhost:8080/",
          "height": 573
        },
        "id": "Q5KgHMlhm6bH",
        "outputId": "21dc5d93-8a49-48bd-ba53-556106ee341a"
      },
      "execution_count": null,
      "outputs": [
        {
          "output_type": "display_data",
          "data": {
            "text/plain": [
              "<Figure size 432x288 with 1 Axes>"
            ],
            "image/png": "[encoded data removed]"
          },
          "metadata": {
            "needs_background": "light"
          }
        },
        {
          "output_type": "display_data",
          "data": {
            "text/plain": [
              "<Figure size 432x288 with 1 Axes>"
            ],
            "image/png": "[encoded data removed]"
          },
          "metadata": {
            "needs_background": "light"
          }
        }
      ]
    },
    {
      "cell_type": "code",
      "source": [
        ""
      ],
      "metadata": {
        "id": "7ilFqpqkrkdF"
      },
      "execution_count": null,
      "outputs": []
    }
  ]
}